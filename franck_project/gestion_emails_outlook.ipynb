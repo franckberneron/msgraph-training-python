{
 "cells": [
  {
   "cell_type": "markdown",
   "metadata": {},
   "source": [
    "# Gérer les emails Outlook avec l'API Graph"
   ]
  },
  {
   "cell_type": "markdown",
   "metadata": {},
   "source": [
    "## Importation des bibliothèques et initialisation des paramètres"
   ]
  },
  {
   "cell_type": "code",
   "execution_count": 1,
   "metadata": {},
   "outputs": [],
   "source": [
    "import asyncio\n",
    "import configparser\n",
    "from graph import Graph\n",
    "from outlook_service import OutlookService\n",
    "\n",
    "    \n",
    "config = configparser.ConfigParser()\n",
    "config.read(['config.cfg', 'config.dev.cfg'])\n",
    "azure_settings = config['azure']\n",
    "\n",
    "outlook_service : OutlookService = OutlookService(azure_settings)\n",
    "graph: Graph = Graph(azure_settings)\n",
    "\n"
   ]
  },
  {
   "cell_type": "markdown",
   "metadata": {},
   "source": [
    "## Définition des fonctions"
   ]
  },
  {
   "cell_type": "code",
   "execution_count": 3,
   "metadata": {},
   "outputs": [],
   "source": [
    "async def display_access_token(graph: Graph):\n",
    "    token = await graph.get_app_only_token()\n",
    "    print('App-only token:', token, '\\n')\n",
    "# </DisplayAccessTokenSnippet>\n",
    "\n",
    "# <ListUsersSnippet>\n",
    "async def list_users(graph: Graph):\n",
    "    users_page = await graph.get_users()\n",
    "\n",
    "    # Output each users's details\n",
    "    if users_page and users_page.value:\n",
    "        for user in users_page.value:\n",
    "            print('User:', user.display_name)\n",
    "            print('  ID:', user.id)\n",
    "            print('  Email:', user.mail)\n",
    "\n",
    "        # If @odata.nextLink is present\n",
    "        more_available = users_page.odata_next_link is not None\n",
    "        print('\\nMore users available?', more_available, '\\n')\n",
    "# </ListUsersSnippet>\n",
    "\n",
    "# <MakeGraphCallSnippet>\n",
    "async def make_graph_call(graph: Graph):\n",
    "    await graph.make_graph_call()"
   ]
  },
  {
   "cell_type": "markdown",
   "metadata": {},
   "source": [
    "## Exécution des fonctions\n"
   ]
  },
  {
   "cell_type": "markdown",
   "metadata": {},
   "source": [
    "### Affichage du jeton d'accès avec l'API Graph"
   ]
  },
  {
   "cell_type": "code",
   "execution_count": 9,
   "metadata": {},
   "outputs": [
    {
     "name": "stdout",
     "output_type": "stream",
     "text": [
      "App-only token: eyJ0eXAiOiJKV1QiLCJub25jZSI6ImdLUldXajRodGMwX19mb1pzdzdNQXMzaTJUNUVrUEloejdmQi1MQUlFcDgiLCJhbGciOiJSUzI1NiIsIng1dCI6IkNOdjBPSTNSd3FsSEZFVm5hb01Bc2hDSDJYRSIsImtpZCI6IkNOdjBPSTNSd3FsSEZFVm5hb01Bc2hDSDJYRSJ9.eyJhdWQiOiJodHRwczovL2dyYXBoLm1pY3Jvc29mdC5jb20iLCJpc3MiOiJodHRwczovL3N0cy53aW5kb3dzLm5ldC84ZWM0N2IyYi03MTZiLTRkNjktOWM5ZS1hOWNkNzkzNjExMWUvIiwiaWF0IjoxNzQzNjg4NDU3LCJuYmYiOjE3NDM2ODg0NTcsImV4cCI6MTc0MzY5MjM1NywiYWlvIjoiazJSZ1lERDVza1h4NVR6TkpRei9MbmJzNnUwNERBQT0iLCJhcHBfZGlzcGxheW5hbWUiOiJHcmFwaCBBcHAgQXV0aCBUdXRvcmlhbCIsImFwcGlkIjoiMTkwMGIyOTYtMWRiNC00YmNiLWIyYzUtNGM3YzgzODRlMjc2IiwiYXBwaWRhY3IiOiIxIiwiaWRwIjoiaHR0cHM6Ly9zdHMud2luZG93cy5uZXQvOGVjNDdiMmItNzE2Yi00ZDY5LTljOWUtYTljZDc5MzYxMTFlLyIsImlkdHlwIjoiYXBwIiwib2lkIjoiNTZlOWIxMTgtMjg1OC00ZDVjLWI4NGUtZDlhYWJkYzQ3NDY3IiwicmgiOiIxLkFUd0FLM3ZFam10eGFVMmNucW5OZVRZUkhnTUFBQUFBQUFBQXdBQUFBQUFBQUFBOEFBQThBQS4iLCJyb2xlcyI6WyJVc2VyLlJlYWQuQWxsIl0sInN1YiI6IjU2ZTliMTE4LTI4NTgtNGQ1Yy1iODRlLWQ5YWFiZGM0NzQ2NyIsInRlbmFudF9yZWdpb25fc2NvcGUiOiJFVSIsInRpZCI6IjhlYzQ3YjJiLTcxNmItNGQ2OS05YzllLWE5Y2Q3OTM2MTExZSIsInV0aSI6Ik5wcVpFZUxMZTBlSFVQY0NfVjBoQUEiLCJ2ZXIiOiIxLjAiLCJ3aWRzIjpbIjA5OTdhMWQwLTBkMWQtNGFjYi1iNDA4LWQ1Y2E3MzEyMWU5MCJdLCJ4bXNfaWRyZWwiOiIxOCA3IiwieG1zX3RjZHQiOjE1Njg4MTk2ODksInhtc190ZGJyIjoiRVUifQ.PmfPCcoVD1QtfjLR3BIAPV53LrQtVAAJ2G3v-rtRPUvYGIJPPFiDt1kHn87Fzf--qugiXNsmpQUAx3hsLCHqBtL2GZ3G7ooLH-uho1PI8hCpe7Aqlf1ohxfNLRHVKWysCVLt-hsNo5PVqWhL-eDxsyqQVtI3X18NnGATcXpX82EiCTp3NdYbsSQjPOOOiNx2yFTtNREeNOxoo_2_f5hqavOGeimnt4uq-SDjgabDFJDGe9WcNbvsmFoNNPNea4aawf9h56zaMwCuEvdihePoUy-0P8W5EF8iVkuILdBmOw_He4r-uTbHyK5FxA1Pwq-EUJCKwGJLlBTpbq4QDFbJ_g \n",
      "\n"
     ]
    }
   ],
   "source": [
    "# asyncio.run(display_access_token(graph))\n",
    "\n",
    "# print(display_access_token(graph))\n",
    "\n",
    "await display_access_token(graph)"
   ]
  },
  {
   "cell_type": "markdown",
   "metadata": {},
   "source": [
    "### get_inbox renvoie un dictionnaire d'un nombre donné de mails"
   ]
  },
  {
   "cell_type": "code",
   "execution_count": 2,
   "metadata": {},
   "outputs": [
    {
     "name": "stdout",
     "output_type": "stream",
     "text": [
      "Message ID: AAMkAGZiMzlkNGFjLWYwZGEtNDg1Zi04ZGYyLTQ5ZTg4YThiZmEwYQBGAAAAAABKftAhwEP0QrqsZJVwvtE9BwCDguybdD21S6a6k4mYTSsaAAAAAAEMAACDguybdD21S6a6k4mYTSsaAAUwsQwKAAA=\n",
      "  From: Microsoft@information.microsoft.com\n",
      "  Subject: Bienvenue dans Microsoft Teams Phone avec forfait d'appels\n",
      "  Status: Unread\n",
      "\n",
      "Message ID: AAMkAGZiMzlkNGFjLWYwZGEtNDg1Zi04ZGYyLTQ5ZTg4YThiZmEwYQBGAAAAAABKftAhwEP0QrqsZJVwvtE9BwCDguybdD21S6a6k4mYTSsaAAAAAAEMAACDguybdD21S6a6k4mYTSsaAAUwsQwJAAA=\n",
      "  From: franck@axires.tech\n",
      "  Subject: RE: Email de test HTML avec signature et adresse de réponse personnalisée\n",
      "  Status: Read\n",
      "\n",
      "Message ID: AAMkAGZiMzlkNGFjLWYwZGEtNDg1Zi04ZGYyLTQ5ZTg4YThiZmEwYQBGAAAAAABKftAhwEP0QrqsZJVwvtE9BwCDguybdD21S6a6k4mYTSsaAAAAAAEMAACDguybdD21S6a6k4mYTSsaAAUwsQwIAAA=\n",
      "  From: franck@axirestech.com\n",
      "  Subject: Email de test HTML avec signature et adresse de réponse personnalisée\n",
      "  Status: Read\n",
      "\n",
      "Message ID: AAMkAGZiMzlkNGFjLWYwZGEtNDg1Zi04ZGYyLTQ5ZTg4YThiZmEwYQBGAAAAAABKftAhwEP0QrqsZJVwvtE9BwCDguybdD21S6a6k4mYTSsaAAAAAAEMAACDguybdD21S6a6k4mYTSsaAAUwsQwHAAA=\n",
      "  From: lima@connect.relevanceai.com\n",
      "  Subject: Franck, I've built you a Power BI reporting assistant 🤖\n",
      "  Status: Unread\n",
      "\n",
      "Message ID: AAMkAGZiMzlkNGFjLWYwZGEtNDg1Zi04ZGYyLTQ5ZTg4YThiZmEwYQBGAAAAAABKftAhwEP0QrqsZJVwvtE9BwCDguybdD21S6a6k4mYTSsaAAAAAAEMAACDguybdD21S6a6k4mYTSsaAAUwsQwGAAA=\n",
      "  From: MicrosoftExchange329e71ec88ae4615bbc36ab6ce41109e@axires.tech\n",
      "  Subject: Non remis : Undeliverable: Test avec deux images inline\n",
      "  Status: Unread\n",
      "\n"
     ]
    }
   ],
   "source": [
    "# Création du service\n",
    "service = OutlookService(azure_settings)\n",
    "\n",
    "# Appel de la méthode avec l'ID utilisateur\n",
    "messages = await service.get_inbox(\"franck@axires.tech\", limit=5)\n",
    "\n",
    "if messages:\n",
    "    for msg in messages:\n",
    "        print('Message ID:', msg[\"id\"])\n",
    "        print('  From:', msg[\"from\"] or \"NONE\")\n",
    "        print('  Subject:', msg[\"subject\"] or \"(aucun objet)\")\n",
    "        print('  Status:', \"Read\" if msg[\"isRead\"] else \"Unread\")\n",
    "        print()\n",
    "else:\n",
    "    print(\"Aucun message trouvé.\")"
   ]
  },
  {
   "cell_type": "markdown",
   "metadata": {},
   "source": [
    "### Envoi d'un mail"
   ]
  },
  {
   "cell_type": "code",
   "execution_count": 2,
   "metadata": {},
   "outputs": [
    {
     "name": "stdout",
     "output_type": "stream",
     "text": [
      "📨 Email envoyé avec succès.\n"
     ]
    }
   ],
   "source": [
    "# Création du service\n",
    "\n",
    "service = OutlookService(azure_settings)\n",
    "\n",
    "# Définir une fonction pour lancer l'envoi (async)\n",
    "\n",
    "async def envoyer_mail():\n",
    "    await service.send_mail(\n",
    "        sender_user_id=\"franck@axires.tech\",  # doit exister dans Azure AD avec les droits Mail.Send\n",
    "        to_address=\"franck@axirestech.com\",\n",
    "        subject=\"Test depuis Jupyter avec Kiota\",\n",
    "        body_text=\"Bonjour,\\n\\nCeci est un test d'envoi via Microsoft Graph et le SDK Kiota.\\n\\nBien à vous.\"\n",
    "    )\n",
    "    print(\"📨 Email envoyé avec succès.\")\n",
    "\n",
    "# Étape 4 : Exécuter l'envoi\n",
    "await envoyer_mail()"
   ]
  },
  {
   "cell_type": "markdown",
   "metadata": {},
   "source": [
    "### Envoi d'un mail avec signature HTML simple "
   ]
  },
  {
   "cell_type": "code",
   "execution_count": 3,
   "metadata": {},
   "outputs": [],
   "source": [
    "# Création du service\n",
    "\n",
    "service = OutlookService(azure_settings)\n",
    "\n",
    "\n",
    "html_signature = \"\"\"\n",
    "<p><strong>Franck BERNERON</strong><br>\n",
    "Associé co-fondateur</p>\n",
    "\n",
    "<p><strong>Mobile</strong> +33 756 26 73 03<br>\n",
    "<strong>Email</strong> <a href=\"mailto:franck@axires.tech\">franck@axires.tech</a><br>\n",
    "<strong>Adresse</strong> 96, rue Paradis<br>\n",
    "13006 Marseille</p>\n",
    "\n",
    "<img src=\"https://www.axirestech.com/logo.png\" alt=\"AxiresTech Logo\" width=\"150\">\n",
    "\"\"\"\n",
    "\n",
    "await service.send_mail(\n",
    "    sender_user_id=\"franck@axires.tech\",\n",
    "    to_address=\"franck@axirestech.com\",\n",
    "    subject=\"Test email avec signature HTML\",\n",
    "    html_body=html_signature\n",
    ")"
   ]
  },
  {
   "cell_type": "markdown",
   "metadata": {},
   "source": [
    "### Envoi mail avec signature html enrichie d'une image"
   ]
  },
  {
   "cell_type": "code",
   "execution_count": 2,
   "metadata": {},
   "outputs": [],
   "source": [
    "# Création du service\n",
    "\n",
    "service = OutlookService(azure_settings)\n",
    "\n",
    "\n",
    "html_content = \"\"\"\n",
    "<p><strong>Franck BERNERON</strong><br>\n",
    "Associé co-fondateur</p>\n",
    "\n",
    "<p><strong>Mobile</strong> +33 756 26 73 03<br>\n",
    "<strong>Email</strong> <a href=\"mailto:franck@axires.tech\">franck@axires.tech</a><br>\n",
    "<strong>Adresse</strong> 96, rue Paradis<br>\n",
    "13006 Marseille</p>\n",
    "\n",
    "<img src=\"cid:signature-image\" alt=\"portrait Branck Berneron\" width=\"150\">\n",
    "\"\"\"\n",
    "\n",
    "await service.send_mail(\n",
    "    sender_user_id=\"franck@axires.tech\",\n",
    "    to_address=\"franck@axirestech.com\",\n",
    "    subject=\"Test email avec signature image inline\",\n",
    "    html_body=html_content,\n",
    "    image_path=\"portrait_signature.png\"  # Ton fichier image local\n",
    ")"
   ]
  },
  {
   "cell_type": "markdown",
   "metadata": {},
   "source": [
    "### Envoi avec signature contenant deux images"
   ]
  },
  {
   "cell_type": "code",
   "execution_count": 4,
   "metadata": {},
   "outputs": [],
   "source": [
    "# Création du service\n",
    "\n",
    "service = OutlookService(azure_settings)\n",
    "\n",
    "\n",
    "html = \"\"\"\n",
    "<p><strong>Franck BERNERON</strong></p>\n",
    "<p><img src=\"cid:portrait\" width=\"100\"> &nbsp; <img src=\"cid:logo\" width=\"100\"></p>\n",
    "\"\"\"\n",
    "\n",
    "await service.send_mail(\n",
    "    sender_user_id=\"franck@axires.tech\",\n",
    "    to_address=\"franck@axirestech.com\",\n",
    "    subject=\"Test avec deux images inline\",\n",
    "    html_body=html,\n",
    "    inline_images=[\n",
    "        (\"portrait_signature.png\", \"portrait\"),\n",
    "        (\"logo_axires.png\", \"logo\")\n",
    "    ]\n",
    ")"
   ]
  },
  {
   "cell_type": "markdown",
   "metadata": {},
   "source": [
    "### Envoi email complet mis en forme"
   ]
  },
  {
   "cell_type": "code",
   "execution_count": null,
   "metadata": {},
   "outputs": [],
   "source": [
    "# Création du service\n",
    "\n",
    "service = OutlookService(azure_settings)\n",
    "\n",
    "# Création du mail\n",
    "\n",
    "html = \"\"\"\n",
    "<html>\n",
    "  <body style=\"font-family:Segoe UI, sans-serif; font-size:14px; color:#000;\">\n",
    "    <p>Bonjour,</p>\n",
    "\n",
    "    <p>Voici un email de test en html avec une signature.</p>\n",
    "\n",
    "    <p>Très cordialement,</p>\n",
    "\n",
    "    <br>\n",
    "\n",
    "    <!-- Signature HTML -->\n",
    "    <table cellpadding=\"0\" cellspacing=\"0\" style=\"width:600px; font-family:Segoe UI, sans-serif;\">\n",
    "      <tr>\n",
    "        <td style=\"width:110px; vertical-align:top; padding-right:15px;\">\n",
    "          <img src=\"cid:portrait\" alt=\"Portrait Franck Berneron\" width=\"100\" style=\"border-radius: 50%;\">\n",
    "        </td>\n",
    "        <td style=\"vertical-align:top;\">\n",
    "          <table cellpadding=\"0\" cellspacing=\"0\" style=\"width:100%;\">\n",
    "            <tr>\n",
    "              <td colspan=\"2\" style=\"font-size:16px; font-weight:bold; color:#66acc2; padding-bottom:2px;\">\n",
    "                Franck BERNERON\n",
    "              </td>\n",
    "            </tr>\n",
    "            <tr>\n",
    "              <td colspan=\"2\" style=\"font-size:13px; color:#999; padding-bottom:8px;\">\n",
    "                Associé co-fondateur\n",
    "              </td>\n",
    "            </tr>\n",
    "            <tr>\n",
    "              <td colspan=\"2\" style=\"border-top:2px solid #66acc2; padding-top:6px; font-size:13px;\">\n",
    "                <strong>Mobile</strong> +33 756 26 73 03<br>\n",
    "                <strong>Email</strong> <a href=\"mailto:franck@axires.tech\" style=\"color:#000; text-decoration:none;\">franck@axires.tech</a><br>\n",
    "                <strong>Adresse</strong> 96, rue Paradis<br>\n",
    "                13006 Marseille\n",
    "              </td>\n",
    "            </tr>\n",
    "          </table>\n",
    "        </td>\n",
    "        <td style=\"width:120px; vertical-align:top; text-align:right;\">\n",
    "          <img src=\"cid:logo\" alt=\"AxiresTech Logo\" width=\"100\" style=\"margin-top:10px;\">\n",
    "        </td>\n",
    "      </tr>\n",
    "    </table>\n",
    "  </body>\n",
    "</html>\n",
    "\"\"\"\n",
    "\n",
    "await service.send_mail(\n",
    "    sender_user_id=\"franck@axires.tech\",\n",
    "    to_address=\"franck@axirestech.com\",\n",
    "    subject=\"Email de test avec signature mise en forme\",\n",
    "    html_body=html,\n",
    "    inline_images=[\n",
    "        (\"portrait_signature.png\", \"portrait\"),\n",
    "        (\"logo_axires.png\", \"logo\")\n",
    "    ]\n",
    ")"
   ]
  },
  {
   "cell_type": "markdown",
   "metadata": {},
   "source": [
    "### Envoi email complet avec adresse de réponse personnalisée\n",
    "***Testé l'envoi depuis l'adresse franck@axirestech.com avec succès***"
   ]
  },
  {
   "cell_type": "code",
   "execution_count": 2,
   "metadata": {},
   "outputs": [],
   "source": [
    "\n",
    "# Création du service\n",
    "\n",
    "service = OutlookService(azure_settings)\n",
    "\n",
    "# Création du mail\n",
    "\n",
    "html = \"\"\"\n",
    "<html>\n",
    "  <body style=\"font-family:Segoe UI, sans-serif; font-size:14px; color:#000;\">\n",
    "    <p>Bonjour,</p>\n",
    "\n",
    "    <p>Voici un email de test en html avec une signature.</p>\n",
    "\n",
    "    <p>Très cordialement,</p>\n",
    "\n",
    "    <br>\n",
    "\n",
    "    <!-- Signature HTML -->\n",
    "    <table cellpadding=\"0\" cellspacing=\"0\" style=\"width:600px; font-family:Segoe UI, sans-serif;\">\n",
    "      <tr>\n",
    "        <td style=\"width:110px; vertical-align:top; padding-right:15px;\">\n",
    "          <img src=\"cid:portrait\" alt=\"Portrait Franck Berneron\" width=\"100\" style=\"border-radius: 50%;\">\n",
    "        </td>\n",
    "        <td style=\"vertical-align:top;\">\n",
    "          <table cellpadding=\"0\" cellspacing=\"0\" style=\"width:100%;\">\n",
    "            <tr>\n",
    "              <td colspan=\"2\" style=\"font-size:16px; font-weight:bold; color:#66acc2; padding-bottom:2px;\">\n",
    "                Franck BERNERON\n",
    "              </td>\n",
    "            </tr>\n",
    "            <tr>\n",
    "              <td colspan=\"2\" style=\"font-size:13px; color:#999; padding-bottom:8px;\">\n",
    "                Associé co-fondateur\n",
    "              </td>\n",
    "            </tr>\n",
    "            <tr>\n",
    "              <td colspan=\"2\" style=\"border-top:2px solid #66acc2; padding-top:6px; font-size:13px;\">\n",
    "                <strong>Mobile</strong> +33 756 26 73 03<br>\n",
    "                <strong>Email</strong> <a href=\"mailto:franck@axires.tech\" style=\"color:#000; text-decoration:none;\">franck@axires.tech</a><br>\n",
    "                <strong>Adresse</strong> 96, rue Paradis<br>\n",
    "                13006 Marseille\n",
    "              </td>\n",
    "            </tr>\n",
    "          </table>\n",
    "        </td>\n",
    "        <td style=\"width:120px; vertical-align:top; text-align:right;\">\n",
    "          <img src=\"cid:logo\" alt=\"AxiresTech Logo\" width=\"100\" style=\"margin-top:10px;\">\n",
    "        </td>\n",
    "      </tr>\n",
    "    </table>\n",
    "  </body>\n",
    "</html>\n",
    "\"\"\"\n",
    "\n",
    "\n",
    "await service.send_mail(\n",
    "    sender_user_id=\"franck@axires.tech\",\n",
    "    to_address=\"franck@axirestech.com\",\n",
    "    subject=\"Email de test HTML avec signature et adresse de réponse personnalisée\",\n",
    "    html_body=html,\n",
    "    inline_images=[\n",
    "        (\"portrait_signature.png\", \"portrait\"),\n",
    "        (\"logo_axires.png\", \"logo\")\n",
    "    ],\n",
    "    reply_to_address=(\"franck@axires.tech\", \"Service Réponses\")\n",
    ")"
   ]
  },
  {
   "cell_type": "markdown",
   "metadata": {},
   "source": [
    "### Réponse aux mails\n"
   ]
  },
  {
   "cell_type": "code",
   "execution_count": null,
   "metadata": {},
   "outputs": [
    {
     "name": "stdout",
     "output_type": "stream",
     "text": [
      "\n",
      "⏳ Message 1/2 - ID: AQMkAGMxYmVjZDhjLTUwZTYtNGI0NS04NjcwLTQ4Yjg4AGFiZjQ5ZGMARgAAA_PxqmP5DMpHiBJ3bWqGP4AHAEpwJMMBMRpNozsj4eRAT4cAAAIBDAAAAEpwJMMBMRpNozsj4eRAT4cAAAIBgAAAAA==\n",
      "  De : franck@axires.tech\n",
      "  Objet : Email de test HTML avec signature et adresse de réponse personnalisée\n",
      "✅ Réponse envoyée\n",
      "⏱️ Attente de 26 secondes...\n",
      "\n",
      "⏳ Message 2/2 - ID: AQMkAGMxYmVjZDhjLTUwZTYtNGI0NS04NjcwLTQ4Yjg4AGFiZjQ5ZGMARgAAA_PxqmP5DMpHiBJ3bWqGP4AHAEpwJMMBMRpNozsj4eRAT4cAAAIBDAAAAEpwJMMBMRpNozsj4eRAT4cAAAIBfwAAAA==\n",
      "  De : franck@axires.tech\n",
      "  Objet : Email de test HTML avec signature et adresse de réponse personnalisée\n",
      "✅ Réponse envoyée\n",
      "\n",
      "📬 Toutes les réponses ont été envoyées.\n"
     ]
    }
   ],
   "source": [
    "\n",
    "# Création du service\n",
    "\n",
    "service = OutlookService(azure_settings)\n",
    "\n",
    "# Contenu principal de l'email\n",
    "html_body = \"\"\"\n",
    "    <p>Bonjour,</p>\n",
    "    <p>Merci pour votre message. Nous vous répondrons dans les <b>meilleurs délais</b>.</p>\n",
    "    <p>Très cordialement,</p>\n",
    "\"\"\"\n",
    "\n",
    "# Signature HTML avec image inline\n",
    "html_signature = \"\"\"\n",
    "\n",
    "      <!-- Signature HTML -->\n",
    "      <table cellpadding=\"0\" cellspacing=\"0\" style=\"width:600px; font-family:Segoe UI, sans-serif;\">\n",
    "        <tr>\n",
    "          <td style=\"width:110px; vertical-align:top; padding-right:15px;\">\n",
    "            <img src=\"cid:portrait\" alt=\"Portrait Franck Berneron\" width=\"100\" style=\"border-radius: 50%;\">\n",
    "          </td>\n",
    "          <td style=\"vertical-align:top;\">\n",
    "            <table cellpadding=\"0\" cellspacing=\"0\" style=\"width:100%;\">\n",
    "              <tr>\n",
    "                <td colspan=\"2\" style=\"font-size:16px; font-weight:bold; color:#66acc2; padding-bottom:2px;\">\n",
    "                  Franck BERNERON\n",
    "                </td>\n",
    "              </tr>\n",
    "              <tr>\n",
    "                <td colspan=\"2\" style=\"font-size:13px; color:#999; padding-bottom:8px;\">\n",
    "                  Associé co-fondateur\n",
    "                </td>\n",
    "              </tr>\n",
    "              <tr>\n",
    "                <td colspan=\"2\" style=\"border-top:2px solid #66acc2; padding-top:6px; font-size:13px;\">\n",
    "                  <strong>Mobile</strong> +33 756 26 73 03<br>\n",
    "                  <strong>Email</strong> <a href=\"mailto:franck@axires.tech\" style=\"color:#000; text-decoration:none;\">franck@axires.tech</a><br>\n",
    "                  <strong>Adresse</strong> 96, rue Paradis<br>\n",
    "                  13006 Marseille\n",
    "                </td>\n",
    "              </tr>\n",
    "            </table>\n",
    "          </td>\n",
    "          <td style=\"width:120px; vertical-align:top; text-align:right;\">\n",
    "            <img src=\"cid:logo\" alt=\"AxiresTech Logo\" width=\"100\" style=\"margin-top:10px;\">\n",
    "          </td>\n",
    "        </tr>\n",
    "      </table>\n",
    "\"\"\"\n",
    "\n",
    "# Génération de l'email HTML complet\n",
    "html = service.build_mail_html(html_body, html_signature)\n",
    "\n",
    "# Appel de la fonction de réponse automatique\n",
    "await service.reply_to_mails(\n",
    "    user_id=\"franck@axirestech.com\",\n",
    "    nb_messages=2,\n",
    "    html_message=html,\n",
    "    avg_delay=45,\n",
    "    inline_images=[(\"portrait_signature.png\", \"portrait\"),(\"logo_axires.png\", \"logo\")]\n",
    ")\n"
   ]
  },
  {
   "cell_type": "markdown",
   "metadata": {},
   "source": [
    "### Réponse à certains mails identifiés par leurs ids "
   ]
  },
  {
   "cell_type": "markdown",
   "metadata": {},
   "source": [
    "#### Récupération des ids par get_inbox"
   ]
  },
  {
   "cell_type": "code",
   "execution_count": 3,
   "metadata": {},
   "outputs": [
    {
     "name": "stdout",
     "output_type": "stream",
     "text": [
      "ID: AQMkAGMxYmVjZDhjLTUwZTYtNGI0NS04NjcwLTQ4Yjg4AGFiZjQ5ZGMARgAAA_PxqmP5DMpHiBJ3bWqGP4AHAEpwJMMBMRpNozsj4eRAT4cAAAIBDAAAAEpwJMMBMRpNozsj4eRAT4cAAAIBgAAAAA== | From: franck@axires.tech | Sujet: Email de test HTML avec signature et adresse de réponse personnalisée\n",
      "ID: AQMkAGMxYmVjZDhjLTUwZTYtNGI0NS04NjcwLTQ4Yjg4AGFiZjQ5ZGMARgAAA_PxqmP5DMpHiBJ3bWqGP4AHAEpwJMMBMRpNozsj4eRAT4cAAAIBDAAAAEpwJMMBMRpNozsj4eRAT4cAAAIBfwAAAA== | From: franck@axires.tech | Sujet: Email de test HTML avec signature et adresse de réponse personnalisée\n",
      "ID: AQMkAGMxYmVjZDhjLTUwZTYtNGI0NS04NjcwLTQ4Yjg4AGFiZjQ5ZGMARgAAA_PxqmP5DMpHiBJ3bWqGP4AHAEpwJMMBMRpNozsj4eRAT4cAAAIBDAAAAEpwJMMBMRpNozsj4eRAT4cAAAIBfgAAAA== | From: franck@axires.tech | Sujet: Email de test HTML avec signature et adresse de réponse personnalisée\n",
      "ID: AQMkAGMxYmVjZDhjLTUwZTYtNGI0NS04NjcwLTQ4Yjg4AGFiZjQ5ZGMARgAAA_PxqmP5DMpHiBJ3bWqGP4AHAEpwJMMBMRpNozsj4eRAT4cAAAIBDAAAAEpwJMMBMRpNozsj4eRAT4cAAAIBfQAAAA== | From: franck@axires.tech | Sujet: Email de test HTML avec signature et adresse de réponse personnalisée\n",
      "ID: AQMkAGMxYmVjZDhjLTUwZTYtNGI0NS04NjcwLTQ4Yjg4AGFiZjQ5ZGMARgAAA_PxqmP5DMpHiBJ3bWqGP4AHAEpwJMMBMRpNozsj4eRAT4cAAAIBDAAAAEpwJMMBMRpNozsj4eRAT4cAAAIBfAAAAA== | From: franck@axires.tech | Sujet: Email de test HTML avec signature et adresse de réponse personnalisée\n",
      "ID: AQMkAGMxYmVjZDhjLTUwZTYtNGI0NS04NjcwLTQ4Yjg4AGFiZjQ5ZGMARgAAA_PxqmP5DMpHiBJ3bWqGP4AHAEpwJMMBMRpNozsj4eRAT4cAAAIBDAAAAEpwJMMBMRpNozsj4eRAT4cAAAIBewAAAA== | From: franck@axires.tech | Sujet: Email de test avec signature mise en forme\n",
      "ID: AQMkAGMxYmVjZDhjLTUwZTYtNGI0NS04NjcwLTQ4Yjg4AGFiZjQ5ZGMARgAAA_PxqmP5DMpHiBJ3bWqGP4AHAEpwJMMBMRpNozsj4eRAT4cAAAIBDAAAAEpwJMMBMRpNozsj4eRAT4cAAAIBegAAAA== | From: franck@axires.tech | Sujet: Test avec deux images inline\n",
      "ID: AQMkAGMxYmVjZDhjLTUwZTYtNGI0NS04NjcwLTQ4Yjg4AGFiZjQ5ZGMARgAAA_PxqmP5DMpHiBJ3bWqGP4AHAEpwJMMBMRpNozsj4eRAT4cAAAIBDAAAAEpwJMMBMRpNozsj4eRAT4cAAAIBeQAAAA== | From: franck@axires.tech | Sujet: Test avec deux images inline\n",
      "ID: AQMkAGMxYmVjZDhjLTUwZTYtNGI0NS04NjcwLTQ4Yjg4AGFiZjQ5ZGMARgAAA_PxqmP5DMpHiBJ3bWqGP4AHAEpwJMMBMRpNozsj4eRAT4cAAAIBDAAAAEpwJMMBMRpNozsj4eRAT4cAAAIBeAAAAA== | From: franck@axires.tech | Sujet: Test email avec signature image inline\n",
      "ID: AQMkAGMxYmVjZDhjLTUwZTYtNGI0NS04NjcwLTQ4Yjg4AGFiZjQ5ZGMARgAAA_PxqmP5DMpHiBJ3bWqGP4AHAEpwJMMBMRpNozsj4eRAT4cAAAIBDAAAAEpwJMMBMRpNozsj4eRAT4cAAAIBdwAAAA== | From: franck@axires.tech | Sujet: Test email avec signature HTML\n"
     ]
    }
   ],
   "source": [
    "# Création du service Outlook\n",
    "service = OutlookService(azure_settings)\n",
    "\n",
    "inbox = await service.get_inbox(\"franck@axirestech.com\", limit=10)\n",
    "for msg in inbox:\n",
    "    print(f\"ID: {msg['id']} | From: {msg['from']} | Sujet: {msg['subject']}\")"
   ]
  },
  {
   "cell_type": "markdown",
   "metadata": {},
   "source": [
    "#### Génération des réponses"
   ]
  },
  {
   "cell_type": "code",
   "execution_count": 4,
   "metadata": {},
   "outputs": [
    {
     "name": "stdout",
     "output_type": "stream",
     "text": [
      "\n",
      "⏳ Message 1/3 - ID: AQMkAGMxYmVjZDhjLTUwZTYtNGI0NS04NjcwLTQ4Yjg4AGFiZjQ5ZGMARgAAA_PxqmP5DMpHiBJ3bWqGP4AHAEpwJMMBMRpNozsj4eRAT4cAAAIBDAAAAEpwJMMBMRpNozsj4eRAT4cAAAIBgAAAAA==\n",
      "  De : franck@axires.tech\n",
      "  Objet : Email de test HTML avec signature et adresse de réponse personnalisée\n",
      "✅ Réponse envoyée\n",
      "⏱️ Attente de 60 secondes...\n",
      "\n",
      "⏳ Message 2/3 - ID: AQMkAGMxYmVjZDhjLTUwZTYtNGI0NS04NjcwLTQ4Yjg4AGFiZjQ5ZGMARgAAA_PxqmP5DMpHiBJ3bWqGP4AHAEpwJMMBMRpNozsj4eRAT4cAAAIBDAAAAEpwJMMBMRpNozsj4eRAT4cAAAIBfgAAAA==\n",
      "  De : franck@axires.tech\n",
      "  Objet : Email de test HTML avec signature et adresse de réponse personnalisée\n",
      "✅ Réponse envoyée\n",
      "⏱️ Attente de 50 secondes...\n",
      "\n",
      "⏳ Message 3/3 - ID: AQMkAGMxYmVjZDhjLTUwZTYtNGI0NS04NjcwLTQ4Yjg4AGFiZjQ5ZGMARgAAA_PxqmP5DMpHiBJ3bWqGP4AHAEpwJMMBMRpNozsj4eRAT4cAAAIBDAAAAEpwJMMBMRpNozsj4eRAT4cAAAIBewAAAA==\n",
      "  De : franck@axires.tech\n",
      "  Objet : Email de test avec signature mise en forme\n",
      "✅ Réponse envoyée\n",
      "\n",
      "📬 Toutes les réponses ont été envoyées.\n"
     ]
    }
   ],
   "source": [
    "# Création du service Outlook\n",
    "service = OutlookService(azure_settings)\n",
    "\n",
    "# Corps principal du message\n",
    "html_body = \"\"\"\n",
    "    <p>Bonjour,</p>\n",
    "    <p>Voici une première réponse de <b>mails triés</b></p>\n",
    "    <p>Merci pour votre message. Nous vous répondrons dans les <b>meilleurs délais</b>.</p>\n",
    "    <p>Très cordialement,</p>\n",
    "\"\"\"\n",
    "\n",
    "# Signature HTML avec deux images inline\n",
    "html_signature = \"\"\"\n",
    "    <table cellpadding=\"0\" cellspacing=\"0\" style=\"width:600px; font-family:Segoe UI, sans-serif;\">\n",
    "        <tr>\n",
    "            <td style=\"width:110px; vertical-align:top; padding-right:15px;\">\n",
    "                <img src=\"cid:portrait\" alt=\"Portrait Franck Berneron\" width=\"100\" style=\"border-radius: 50%;\">\n",
    "            </td>\n",
    "            <td style=\"vertical-align:top;\">\n",
    "                <table cellpadding=\"0\" cellspacing=\"0\" style=\"width:100%;\">\n",
    "                    <tr>\n",
    "                        <td colspan=\"2\" style=\"font-size:16px; font-weight:bold; color:#66acc2; padding-bottom:2px;\">\n",
    "                            Franck BERNERON\n",
    "                        </td>\n",
    "                    </tr>\n",
    "                    <tr>\n",
    "                        <td colspan=\"2\" style=\"font-size:13px; color:#999; padding-bottom:8px;\">\n",
    "                            Associé co-fondateur\n",
    "                        </td>\n",
    "                    </tr>\n",
    "                    <tr>\n",
    "                        <td colspan=\"2\" style=\"border-top:2px solid #66acc2; padding-top:6px; font-size:13px;\">\n",
    "                            <strong>Mobile</strong> +33 756 26 73 03<br>\n",
    "                            <strong>Email</strong> <a href=\"mailto:franck@axires.tech\" style=\"color:#000; text-decoration:none;\">franck@axires.tech</a><br>\n",
    "                            <strong>Adresse</strong> 96, rue Paradis<br>\n",
    "                            13006 Marseille\n",
    "                        </td>\n",
    "                    </tr>\n",
    "                </table>\n",
    "            </td>\n",
    "            <td style=\"width:120px; vertical-align:top; text-align:right;\">\n",
    "                <img src=\"cid:logo\" alt=\"AxiresTech Logo\" width=\"100\" style=\"margin-top:10px;\">\n",
    "            </td>\n",
    "        </tr>\n",
    "    </table>\n",
    "\"\"\"\n",
    "\n",
    "# Génération du message HTML complet\n",
    "html = service.build_mail_html(html_body, html_signature)\n",
    "\n",
    "# Liste des IDs de messages auxquels répondre\n",
    "message_ids = [\n",
    "    \"AQMkAGMxYmVjZDhjLTUwZTYtNGI0NS04NjcwLTQ4Yjg4AGFiZjQ5ZGMARgAAA_PxqmP5DMpHiBJ3bWqGP4AHAEpwJMMBMRpNozsj4eRAT4cAAAIBDAAAAEpwJMMBMRpNozsj4eRAT4cAAAIBgAAAAA==\",  # ← Remplace par des IDs valides récupérés par get_inbox\n",
    "    \"AQMkAGMxYmVjZDhjLTUwZTYtNGI0NS04NjcwLTQ4Yjg4AGFiZjQ5ZGMARgAAA_PxqmP5DMpHiBJ3bWqGP4AHAEpwJMMBMRpNozsj4eRAT4cAAAIBDAAAAEpwJMMBMRpNozsj4eRAT4cAAAIBfgAAAA==\",\n",
    "    \"AQMkAGMxYmVjZDhjLTUwZTYtNGI0NS04NjcwLTQ4Yjg4AGFiZjQ5ZGMARgAAA_PxqmP5DMpHiBJ3bWqGP4AHAEpwJMMBMRpNozsj4eRAT4cAAAIBDAAAAEpwJMMBMRpNozsj4eRAT4cAAAIBewAAAA==\"\n",
    "]\n",
    "\n",
    "# Envoi des réponses\n",
    "await service.reply_to_email(\n",
    "    user_id=\"franck@axirestech.com\",\n",
    "    message_ids=message_ids,\n",
    "    html_message=html,\n",
    "    avg_delay=45,\n",
    "    inline_images=[\n",
    "        (\"portrait_signature.png\", \"portrait\"),\n",
    "        (\"logo_axires.png\", \"logo\")\n",
    "    ]\n",
    ")\n"
   ]
  }
 ],
 "metadata": {
  "kernelspec": {
   "display_name": ".venv",
   "language": "python",
   "name": "python3"
  },
  "language_info": {
   "codemirror_mode": {
    "name": "ipython",
    "version": 3
   },
   "file_extension": ".py",
   "mimetype": "text/x-python",
   "name": "python",
   "nbconvert_exporter": "python",
   "pygments_lexer": "ipython3",
   "version": "3.10.11"
  }
 },
 "nbformat": 4,
 "nbformat_minor": 2
}
